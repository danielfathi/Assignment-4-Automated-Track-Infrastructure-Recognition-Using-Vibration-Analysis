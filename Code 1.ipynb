{
 "cells": [
  {
   "cell_type": "code",
   "execution_count": 1,
   "metadata": {},
   "outputs": [
    {
     "name": "stdout",
     "output_type": "stream",
     "text": [
      "Bridge data loaded. Rows: 25\n",
      "RailJoint data loaded. Rows: 20\n",
      "Turnout data loaded. Rows: 75\n",
      "Data loaded for categories:\n",
      "Category\n",
      "Turnout      75\n",
      "Bridge       25\n",
      "RailJoint    20\n",
      "Name: count, dtype: int64\n",
      "Summary of Latitude/Longitude:\n",
      "         Latitude   Longitude\n",
      "count  120.000000  120.000000\n",
      "mean    60.792431   14.921160\n",
      "std      0.191516    0.284255\n",
      "min     60.510878   14.518605\n",
      "25%     60.587961   14.570193\n",
      "50%     60.748120   15.064924\n",
      "75%     61.007341   15.120486\n",
      "max     61.009065   15.352741\n",
      "Missing values:\n",
      "Latitude     0\n",
      "Longitude    0\n",
      "Category     0\n",
      "dtype: int64\n"
     ]
    },
    {
     "name": "stderr",
     "output_type": "stream",
     "text": [
      "/var/folders/y_/g4bb5p814w172ydvc3rlbn0r0000gn/T/ipykernel_87963/908989428.py:69: DeprecationWarning:\n",
      "\n",
      "*scattermapbox* is deprecated! Use *scattermap* instead. Learn more at: https://plotly.com/python/mapbox-to-maplibre/\n",
      "\n"
     ]
    },
    {
     "data": {
      "application/vnd.plotly.v1+json": {
       "config": {
        "plotlyServerURL": "https://plot.ly"
       },
       "data": [
        {
         "lat": {
          "bdata": "JtfEMMJDTkDOMZu9mUROQPI4orE5RU5ARdF+5qJHTkCREvD/jVVOQBPcN34MV05ArYqMOaRXTkAjS/y/rFlOQNDqT1g7XU5AFl2+7fNgTkBH1PD59mpOQAhSI0y0cE5ANpwTXw1yTkBPBJd0W3JOQNosPMfhc05A+6brlcxzTkBMHsh/f3FOQNRmzq7Tek5Ag+oq4nR9TkC+PCDw+n1OQPtmsj02gE5At14fTwGBTkBtQac5D4FOQKtLvHbbgE5A85ZL3haBTkA=",
          "dtype": "f8"
         },
         "lon": {
          "bdata": "plKTz0iXLkBDZwYkho8uQNJkhtk+kC5ANggcWfRHLkCMRv2RBjQuQIN4Tx7bLC5AIHR0K1AnLkAuPoU9KxsuQIxcqhuRAy5Ag97Amz4JLkCW7eUmdiwuQLWb1adDPC5AoJIyVgw3LkAjmTP9ljQuQANqOFhq7C1AcH7ApNTrLUBxYvPbONQtQFOB0ll6ai1Ao/F4AjtMLUC6s9r0cUYtQNteFC/DKS1AfpiK+bslLUCTkLRkRyMtQJ2SFZyGCS1AbQiJeiUmLUA=",
          "dtype": "f8"
         },
         "marker": {
          "color": "red",
          "size": 10
         },
         "mode": "markers",
         "name": "Bridge",
         "type": "scattermapbox"
        },
        {
         "lat": {
          "bdata": "ygQ2H1BGTkDCqkO1tUZOQMZZDsq3Rk5A6VhnmuZGTkDZykrz7UZOQHdbSN/uRk5AYsT2qtpGTkD2YU6i2EZOQNMW6pytRk5A5kqXlKdGTkAg2/20pEZOQI9JfDKkRk5AdJhpdKdGTkDqGXJ+5kZOQF+4elfqRk5AFqwfLT1HTkDbNZRcikdOQMkfSvPYR05Azf7BQd5HTkDU7XUrZUhOQA==",
          "dtype": "f8"
         },
         "lon": {
          "bdata": "ZYyfYgKLLkDtwS8ZXoMuQE7HucEwgy5Abh+i3+p4LkDKNuI6XHYuQM2Swm8Bdi5AUOLwl8dsLkAu5QADh2wuQFIWl/kqZC5Ai513VpliLkBjqWMV2mEuQA78O4lFWi5AoLHjFAVaLkBXe9CIelUuQFk+P4YwVS5AJT7TFEJPLkAUJ0JOtUkuQIXb8rrDRC5AT+XvyZhELkD62Kdq9kEuQA==",
          "dtype": "f8"
         },
         "marker": {
          "color": "blue",
          "size": 8
         },
         "mode": "markers",
         "name": "RailJoint",
         "type": "scattermapbox"
        },
        {
         "lat": {
          "bdata": "LYD+nu9XTkCdKtuk+ldOQB4kC0r/V05AYrpAhQRYTkDdPRZBBVhOQGuKbwYMWE5AwxuMEA1YTkCxMbiYC1hOQMkQHiwwWE5AQQIRSjdYTkDMkB72QVhOQMyQHvZBWE5Ae4tjyfdBTkCVzZV0ZEFOQNHrN/ipQU5A30051+FBTkC7cXqF7UFOQCsWL4T1QU5AaVxpqzZMTkB+ZPptz0xOQMIp3r3ZTE5AdlY3dgRVTkALVaOGGVVOQC94/H+2VU5AMtLHw/FVTkBxs/cxfFZOQJND7KKHXU5AEC4nL51dTkAMZIIeCV5OQMMdsGklXk5Aq5AZ15BeTkDgEtStq2hOQCqoDvEFaU5AJlmAWyRxTkB7PgVatnFOQPuSm0oGck5AHhQvNH90TkBBmHoUv3ROQIiaKhsZdU5AN9IqOP1/TkCbTDSBBoBOQBWxemBjgE5Ax8ygknmATkAUNcUreIBOQEs5GeyUgE5ARq0UUK+ATkBovx6ZDIFOQCv1TSwSgU5AdtxFTBOBTkCtPMZiFIFOQE6d8+ITgU5AUjGtqxSBTkBdXzDjGYFOQAThcQ0VgU5AJ+LX4BWBTkAqGpUGF4FOQF8aoRIWgU5Ak94z3RWBTkCapV2pFIFOQP0K3ycUgU5Ape7VFBSBTkCRTLa1FoFOQDuU26oXgU5AZnoj6RaBTkCpX6HrGoFOQDHpHjMbgU5AJ4dPvx6BTkDiJzxZIIFOQDA1pCokgU5Amuli+yiBTkBnPIk5JoFOQD7frQspgU5AHfSCgSSBTkBLwLny6oBOQHgH0K2FgE5A",
          "dtype": "f8"
         },
         "lon": {
          "bdata": "bfyQyKI5LkB9VByXUjkuQGU53Us3OS5ACgbGxe44LkCsdXKCBTkuQMUabeDiOC5AyTCjkLM4LkBTJoZcpTguQN+XhaqfNy5AlHdLSmQ3LkA1Ym20BTcuQDVibbQFNy5AR5o1Jm+uLkC4Vw9omrQuQNrU7g5jsS5AnkSe9GOvLkAbW58H3q4uQL4jVaiEri5An+ID6uMsLkBPe02qKiguQEIr2gfZJy5AAA/A9tM0LkCNSNFY5zQuQLXtU1ppMy5A+Ay8bHgyLkD8HJRVQDAuQMD2EA+7Ai5A2i2S034CLkDBUraTdwEuQEuWOngPAS5Auu1vFocALkBfZ/tiigguQD3qztT3Di5AzGhiUMI7LkAGrgyCzzguQIQoThwyNy5AixAMJx+nLUDCCEhT6qQtQOKTExbOoS1AoHl6f48sLUCGkDXlCSwtQLYtPmXdKC1AOUk3uZAoLUAmISa1cCgtQOKrINcKKC1ABrmu+psnLUD29hiWKCQtQN3EPYxCIi1AONgXpdkhLUAFgdGP0SEtQMMhVtwmIS1AEyYp198gLUBBU2AcjSAtQIXfRqYlIC1AmVJ2kt8fLUB2zYsueh8tQM+lxsFkHy1A+eX+AxkfLUDF1mds+R4tQPtiQDWqHi1Adq43F08eLUAfeJp0Nx4tQOSji0/fHS1Af4TRXcUdLUBhn4dsQB0tQLRbRDouHS1AGz0wUZAcLUBH9SAOURwtQMZrBabBGy1AXJ5QpuQbLUA6uqGXXBstQNjT4bxGGy1AZ/JSrVgaLUCvmMCc8RctQEZKAKsoFS1A",
          "dtype": "f8"
         },
         "marker": {
          "color": "green",
          "size": 12
         },
         "mode": "markers",
         "name": "Turnout",
         "type": "scattermapbox"
        }
       ],
       "layout": {
        "height": 800,
        "legend": {
         "title": {
          "text": "Legend"
         }
        },
        "mapbox": {
         "center": {
          "lat": 60.792430700002846,
          "lon": 14.921159913486997
         },
         "style": "open-street-map",
         "zoom": 10
        },
        "margin": {
         "b": 0,
         "l": 50,
         "r": 0,
         "t": 50
        },
        "template": {
         "data": {
          "bar": [
           {
            "error_x": {
             "color": "#2a3f5f"
            },
            "error_y": {
             "color": "#2a3f5f"
            },
            "marker": {
             "line": {
              "color": "#E5ECF6",
              "width": 0.5
             },
             "pattern": {
              "fillmode": "overlay",
              "size": 10,
              "solidity": 0.2
             }
            },
            "type": "bar"
           }
          ],
          "barpolar": [
           {
            "marker": {
             "line": {
              "color": "#E5ECF6",
              "width": 0.5
             },
             "pattern": {
              "fillmode": "overlay",
              "size": 10,
              "solidity": 0.2
             }
            },
            "type": "barpolar"
           }
          ],
          "carpet": [
           {
            "aaxis": {
             "endlinecolor": "#2a3f5f",
             "gridcolor": "white",
             "linecolor": "white",
             "minorgridcolor": "white",
             "startlinecolor": "#2a3f5f"
            },
            "baxis": {
             "endlinecolor": "#2a3f5f",
             "gridcolor": "white",
             "linecolor": "white",
             "minorgridcolor": "white",
             "startlinecolor": "#2a3f5f"
            },
            "type": "carpet"
           }
          ],
          "choropleth": [
           {
            "colorbar": {
             "outlinewidth": 0,
             "ticks": ""
            },
            "type": "choropleth"
           }
          ],
          "contour": [
           {
            "colorbar": {
             "outlinewidth": 0,
             "ticks": ""
            },
            "colorscale": [
             [
              0,
              "#0d0887"
             ],
             [
              0.1111111111111111,
              "#46039f"
             ],
             [
              0.2222222222222222,
              "#7201a8"
             ],
             [
              0.3333333333333333,
              "#9c179e"
             ],
             [
              0.4444444444444444,
              "#bd3786"
             ],
             [
              0.5555555555555556,
              "#d8576b"
             ],
             [
              0.6666666666666666,
              "#ed7953"
             ],
             [
              0.7777777777777778,
              "#fb9f3a"
             ],
             [
              0.8888888888888888,
              "#fdca26"
             ],
             [
              1,
              "#f0f921"
             ]
            ],
            "type": "contour"
           }
          ],
          "contourcarpet": [
           {
            "colorbar": {
             "outlinewidth": 0,
             "ticks": ""
            },
            "type": "contourcarpet"
           }
          ],
          "heatmap": [
           {
            "colorbar": {
             "outlinewidth": 0,
             "ticks": ""
            },
            "colorscale": [
             [
              0,
              "#0d0887"
             ],
             [
              0.1111111111111111,
              "#46039f"
             ],
             [
              0.2222222222222222,
              "#7201a8"
             ],
             [
              0.3333333333333333,
              "#9c179e"
             ],
             [
              0.4444444444444444,
              "#bd3786"
             ],
             [
              0.5555555555555556,
              "#d8576b"
             ],
             [
              0.6666666666666666,
              "#ed7953"
             ],
             [
              0.7777777777777778,
              "#fb9f3a"
             ],
             [
              0.8888888888888888,
              "#fdca26"
             ],
             [
              1,
              "#f0f921"
             ]
            ],
            "type": "heatmap"
           }
          ],
          "histogram": [
           {
            "marker": {
             "pattern": {
              "fillmode": "overlay",
              "size": 10,
              "solidity": 0.2
             }
            },
            "type": "histogram"
           }
          ],
          "histogram2d": [
           {
            "colorbar": {
             "outlinewidth": 0,
             "ticks": ""
            },
            "colorscale": [
             [
              0,
              "#0d0887"
             ],
             [
              0.1111111111111111,
              "#46039f"
             ],
             [
              0.2222222222222222,
              "#7201a8"
             ],
             [
              0.3333333333333333,
              "#9c179e"
             ],
             [
              0.4444444444444444,
              "#bd3786"
             ],
             [
              0.5555555555555556,
              "#d8576b"
             ],
             [
              0.6666666666666666,
              "#ed7953"
             ],
             [
              0.7777777777777778,
              "#fb9f3a"
             ],
             [
              0.8888888888888888,
              "#fdca26"
             ],
             [
              1,
              "#f0f921"
             ]
            ],
            "type": "histogram2d"
           }
          ],
          "histogram2dcontour": [
           {
            "colorbar": {
             "outlinewidth": 0,
             "ticks": ""
            },
            "colorscale": [
             [
              0,
              "#0d0887"
             ],
             [
              0.1111111111111111,
              "#46039f"
             ],
             [
              0.2222222222222222,
              "#7201a8"
             ],
             [
              0.3333333333333333,
              "#9c179e"
             ],
             [
              0.4444444444444444,
              "#bd3786"
             ],
             [
              0.5555555555555556,
              "#d8576b"
             ],
             [
              0.6666666666666666,
              "#ed7953"
             ],
             [
              0.7777777777777778,
              "#fb9f3a"
             ],
             [
              0.8888888888888888,
              "#fdca26"
             ],
             [
              1,
              "#f0f921"
             ]
            ],
            "type": "histogram2dcontour"
           }
          ],
          "mesh3d": [
           {
            "colorbar": {
             "outlinewidth": 0,
             "ticks": ""
            },
            "type": "mesh3d"
           }
          ],
          "parcoords": [
           {
            "line": {
             "colorbar": {
              "outlinewidth": 0,
              "ticks": ""
             }
            },
            "type": "parcoords"
           }
          ],
          "pie": [
           {
            "automargin": true,
            "type": "pie"
           }
          ],
          "scatter": [
           {
            "fillpattern": {
             "fillmode": "overlay",
             "size": 10,
             "solidity": 0.2
            },
            "type": "scatter"
           }
          ],
          "scatter3d": [
           {
            "line": {
             "colorbar": {
              "outlinewidth": 0,
              "ticks": ""
             }
            },
            "marker": {
             "colorbar": {
              "outlinewidth": 0,
              "ticks": ""
             }
            },
            "type": "scatter3d"
           }
          ],
          "scattercarpet": [
           {
            "marker": {
             "colorbar": {
              "outlinewidth": 0,
              "ticks": ""
             }
            },
            "type": "scattercarpet"
           }
          ],
          "scattergeo": [
           {
            "marker": {
             "colorbar": {
              "outlinewidth": 0,
              "ticks": ""
             }
            },
            "type": "scattergeo"
           }
          ],
          "scattergl": [
           {
            "marker": {
             "colorbar": {
              "outlinewidth": 0,
              "ticks": ""
             }
            },
            "type": "scattergl"
           }
          ],
          "scattermap": [
           {
            "marker": {
             "colorbar": {
              "outlinewidth": 0,
              "ticks": ""
             }
            },
            "type": "scattermap"
           }
          ],
          "scattermapbox": [
           {
            "marker": {
             "colorbar": {
              "outlinewidth": 0,
              "ticks": ""
             }
            },
            "type": "scattermapbox"
           }
          ],
          "scatterpolar": [
           {
            "marker": {
             "colorbar": {
              "outlinewidth": 0,
              "ticks": ""
             }
            },
            "type": "scatterpolar"
           }
          ],
          "scatterpolargl": [
           {
            "marker": {
             "colorbar": {
              "outlinewidth": 0,
              "ticks": ""
             }
            },
            "type": "scatterpolargl"
           }
          ],
          "scatterternary": [
           {
            "marker": {
             "colorbar": {
              "outlinewidth": 0,
              "ticks": ""
             }
            },
            "type": "scatterternary"
           }
          ],
          "surface": [
           {
            "colorbar": {
             "outlinewidth": 0,
             "ticks": ""
            },
            "colorscale": [
             [
              0,
              "#0d0887"
             ],
             [
              0.1111111111111111,
              "#46039f"
             ],
             [
              0.2222222222222222,
              "#7201a8"
             ],
             [
              0.3333333333333333,
              "#9c179e"
             ],
             [
              0.4444444444444444,
              "#bd3786"
             ],
             [
              0.5555555555555556,
              "#d8576b"
             ],
             [
              0.6666666666666666,
              "#ed7953"
             ],
             [
              0.7777777777777778,
              "#fb9f3a"
             ],
             [
              0.8888888888888888,
              "#fdca26"
             ],
             [
              1,
              "#f0f921"
             ]
            ],
            "type": "surface"
           }
          ],
          "table": [
           {
            "cells": {
             "fill": {
              "color": "#EBF0F8"
             },
             "line": {
              "color": "white"
             }
            },
            "header": {
             "fill": {
              "color": "#C8D4E3"
             },
             "line": {
              "color": "white"
             }
            },
            "type": "table"
           }
          ]
         },
         "layout": {
          "annotationdefaults": {
           "arrowcolor": "#2a3f5f",
           "arrowhead": 0,
           "arrowwidth": 1
          },
          "autotypenumbers": "strict",
          "coloraxis": {
           "colorbar": {
            "outlinewidth": 0,
            "ticks": ""
           }
          },
          "colorscale": {
           "diverging": [
            [
             0,
             "#8e0152"
            ],
            [
             0.1,
             "#c51b7d"
            ],
            [
             0.2,
             "#de77ae"
            ],
            [
             0.3,
             "#f1b6da"
            ],
            [
             0.4,
             "#fde0ef"
            ],
            [
             0.5,
             "#f7f7f7"
            ],
            [
             0.6,
             "#e6f5d0"
            ],
            [
             0.7,
             "#b8e186"
            ],
            [
             0.8,
             "#7fbc41"
            ],
            [
             0.9,
             "#4d9221"
            ],
            [
             1,
             "#276419"
            ]
           ],
           "sequential": [
            [
             0,
             "#0d0887"
            ],
            [
             0.1111111111111111,
             "#46039f"
            ],
            [
             0.2222222222222222,
             "#7201a8"
            ],
            [
             0.3333333333333333,
             "#9c179e"
            ],
            [
             0.4444444444444444,
             "#bd3786"
            ],
            [
             0.5555555555555556,
             "#d8576b"
            ],
            [
             0.6666666666666666,
             "#ed7953"
            ],
            [
             0.7777777777777778,
             "#fb9f3a"
            ],
            [
             0.8888888888888888,
             "#fdca26"
            ],
            [
             1,
             "#f0f921"
            ]
           ],
           "sequentialminus": [
            [
             0,
             "#0d0887"
            ],
            [
             0.1111111111111111,
             "#46039f"
            ],
            [
             0.2222222222222222,
             "#7201a8"
            ],
            [
             0.3333333333333333,
             "#9c179e"
            ],
            [
             0.4444444444444444,
             "#bd3786"
            ],
            [
             0.5555555555555556,
             "#d8576b"
            ],
            [
             0.6666666666666666,
             "#ed7953"
            ],
            [
             0.7777777777777778,
             "#fb9f3a"
            ],
            [
             0.8888888888888888,
             "#fdca26"
            ],
            [
             1,
             "#f0f921"
            ]
           ]
          },
          "colorway": [
           "#636efa",
           "#EF553B",
           "#00cc96",
           "#ab63fa",
           "#FFA15A",
           "#19d3f3",
           "#FF6692",
           "#B6E880",
           "#FF97FF",
           "#FECB52"
          ],
          "font": {
           "color": "#2a3f5f"
          },
          "geo": {
           "bgcolor": "white",
           "lakecolor": "white",
           "landcolor": "#E5ECF6",
           "showlakes": true,
           "showland": true,
           "subunitcolor": "white"
          },
          "hoverlabel": {
           "align": "left"
          },
          "hovermode": "closest",
          "mapbox": {
           "style": "light"
          },
          "paper_bgcolor": "white",
          "plot_bgcolor": "#E5ECF6",
          "polar": {
           "angularaxis": {
            "gridcolor": "white",
            "linecolor": "white",
            "ticks": ""
           },
           "bgcolor": "#E5ECF6",
           "radialaxis": {
            "gridcolor": "white",
            "linecolor": "white",
            "ticks": ""
           }
          },
          "scene": {
           "xaxis": {
            "backgroundcolor": "#E5ECF6",
            "gridcolor": "white",
            "gridwidth": 2,
            "linecolor": "white",
            "showbackground": true,
            "ticks": "",
            "zerolinecolor": "white"
           },
           "yaxis": {
            "backgroundcolor": "#E5ECF6",
            "gridcolor": "white",
            "gridwidth": 2,
            "linecolor": "white",
            "showbackground": true,
            "ticks": "",
            "zerolinecolor": "white"
           },
           "zaxis": {
            "backgroundcolor": "#E5ECF6",
            "gridcolor": "white",
            "gridwidth": 2,
            "linecolor": "white",
            "showbackground": true,
            "ticks": "",
            "zerolinecolor": "white"
           }
          },
          "shapedefaults": {
           "line": {
            "color": "#2a3f5f"
           }
          },
          "ternary": {
           "aaxis": {
            "gridcolor": "white",
            "linecolor": "white",
            "ticks": ""
           },
           "baxis": {
            "gridcolor": "white",
            "linecolor": "white",
            "ticks": ""
           },
           "bgcolor": "#E5ECF6",
           "caxis": {
            "gridcolor": "white",
            "linecolor": "white",
            "ticks": ""
           }
          },
          "title": {
           "x": 0.05
          },
          "xaxis": {
           "automargin": true,
           "gridcolor": "white",
           "linecolor": "white",
           "ticks": "",
           "title": {
            "standoff": 15
           },
           "zerolinecolor": "white",
           "zerolinewidth": 2
          },
          "yaxis": {
           "automargin": true,
           "gridcolor": "white",
           "linecolor": "white",
           "ticks": "",
           "title": {
            "standoff": 15
           },
           "zerolinecolor": "white",
           "zerolinewidth": 2
          }
         }
        },
        "title": {
         "text": "Railway Infrastructure Map (Bridges, Joints, Turnouts)"
        },
        "width": 1200
       }
      }
     },
     "metadata": {},
     "output_type": "display_data"
    }
   ],
   "source": [
    "import pandas as pd\n",
    "import plotly.graph_objects as go\n",
    "\n",
    "# ====================================\n",
    "# File paths (adjust path if needed)\n",
    "# ====================================\n",
    "base_path = \"./\"\n",
    "\n",
    "files = {\n",
    "    \"Bridge\": base_path + \"converted_coordinates_Resultat_Bridge.csv\",\n",
    "    \"RailJoint\": base_path + \"converted_coordinates_Resultat_RailJoint.csv\",\n",
    "    \"Turnout\": base_path + \"converted_coordinates_Turnout.csv\"\n",
    "}\n",
    "\n",
    "# ====================================\n",
    "# Marker styles for each category\n",
    "# ====================================\n",
    "marker_styles = {\n",
    "    \"Bridge\": {\"color\": \"red\", \"size\": 10},\n",
    "    \"RailJoint\": {\"color\": \"blue\", \"size\": 8},\n",
    "    \"Turnout\": {\"color\": \"green\", \"size\": 12}\n",
    "}\n",
    "\n",
    "# ====================================\n",
    "# Load and process data\n",
    "# ====================================\n",
    "data_frames = []\n",
    "\n",
    "for category, file in files.items():\n",
    "    try:\n",
    "        df = pd.read_csv(file, encoding=\"utf-8\")\n",
    "        df.columns = df.columns.str.strip()\n",
    "\n",
    "        if \"Latitude\" in df.columns and \"Longitude\" in df.columns:\n",
    "            df[\"Latitude\"] = pd.to_numeric(df[\"Latitude\"], errors=\"coerce\")\n",
    "            df[\"Longitude\"] = pd.to_numeric(df[\"Longitude\"], errors=\"coerce\")\n",
    "            df = df[[\"Latitude\", \"Longitude\"]]\n",
    "            df[\"Category\"] = category\n",
    "            data_frames.append(df)\n",
    "            print(f\"{category} data loaded. Rows: {len(df)}\")\n",
    "        else:\n",
    "            print(f\"{category} file is missing 'Latitude' or 'Longitude' columns.\")\n",
    "            print(\"Available columns:\", df.columns.tolist())\n",
    "    except Exception as e:\n",
    "        print(f\"Error loading {category} file:\", e)\n",
    "\n",
    "if not data_frames:\n",
    "    raise ValueError(\"No valid data found. Please check the CSV files.\")\n",
    "\n",
    "data = pd.concat(data_frames, ignore_index=True)\n",
    "data = data.dropna(subset=[\"Latitude\", \"Longitude\"])\n",
    "\n",
    "print(\"Data loaded for categories:\")\n",
    "print(data[\"Category\"].value_counts())\n",
    "print(\"Summary of Latitude/Longitude:\")\n",
    "print(data.describe()[[\"Latitude\", \"Longitude\"]])\n",
    "print(\"Missing values:\")\n",
    "print(data.isnull().sum())\n",
    "\n",
    "# ====================================\n",
    "# Plotting map\n",
    "# ====================================\n",
    "fig = go.Figure()\n",
    "\n",
    "for category, style in marker_styles.items():\n",
    "    category_data = data[data[\"Category\"] == category]\n",
    "\n",
    "    if len(category_data) > 0:\n",
    "        fig.add_trace(go.Scattermapbox(\n",
    "            lat=category_data[\"Latitude\"],\n",
    "            lon=category_data[\"Longitude\"],\n",
    "            mode=\"markers\",\n",
    "            marker=dict(color=style[\"color\"], size=style[\"size\"]),\n",
    "            name=category\n",
    "        ))\n",
    "    else:\n",
    "        print(f\"No data for category: {category}\")\n",
    "\n",
    "fig.update_layout(\n",
    "    mapbox_style=\"open-street-map\",\n",
    "    title=\"Railway Infrastructure Map (Bridges, Joints, Turnouts)\",\n",
    "    legend_title_text=\"Legend\",\n",
    "    width=1200,\n",
    "    height=800,\n",
    "    margin={\"r\": 0, \"t\": 50, \"l\": 50, \"b\": 0},\n",
    "    mapbox=dict(\n",
    "        zoom=10,\n",
    "        center=dict(lat=data[\"Latitude\"].mean(), lon=data[\"Longitude\"].mean())\n",
    "    )\n",
    ")\n",
    "\n",
    "if len(fig.data) == 0:\n",
    "    print(\"No traces added to the map.\")\n",
    "\n",
    "# Show map\n",
    "fig.show()\n"
   ]
  },
  {
   "cell_type": "code",
   "execution_count": null,
   "metadata": {},
   "outputs": [],
   "source": []
  }
 ],
 "metadata": {
  "kernelspec": {
   "display_name": "base",
   "language": "python",
   "name": "python3"
  },
  "language_info": {
   "codemirror_mode": {
    "name": "ipython",
    "version": 3
   },
   "file_extension": ".py",
   "mimetype": "text/x-python",
   "name": "python",
   "nbconvert_exporter": "python",
   "pygments_lexer": "ipython3",
   "version": "3.13.5"
  }
 },
 "nbformat": 4,
 "nbformat_minor": 2
}
